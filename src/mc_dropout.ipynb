{
  "nbformat": 4,
  "nbformat_minor": 0,
  "metadata": {
    "colab": {
      "name": "bayesian_neuralnetwork.ipynb",
      "provenance": [],
      "collapsed_sections": [],
      "machine_shape": "hm"
    },
    "kernelspec": {
      "name": "python3",
      "display_name": "Python 3"
    },
    "accelerator": "GPU"
  },
  "cells": [
    {
      "cell_type": "code",
      "metadata": {
        "id": "G42eSuzvHty1",
        "colab_type": "code",
        "colab": {}
      },
      "source": [
        "from __future__ import absolute_import, division, print_function, unicode_literals\n",
        "\n",
        "!pip install -q tensorflow-gpu==2.0.0-rc1"
      ],
      "execution_count": 0,
      "outputs": []
    },
    {
      "cell_type": "code",
      "metadata": {
        "id": "PhVArKdXLQT8",
        "colab_type": "code",
        "colab": {}
      },
      "source": [
        "%matplotlib inline\n",
        "import matplotlib.pyplot as plt\n",
        "import numpy as np\n",
        "import tensorflow as tf\n",
        "from tensorflow.keras.layers import Dense, Flatten, Conv2D, Dropout, MaxPool2D, GlobalAveragePooling2D\n",
        "from tensorflow.keras import Model\n",
        "from keras.callbacks import EarlyStopping \n",
        "from collections import defaultdict\n",
        "from tqdm import trange"
      ],
      "execution_count": 0,
      "outputs": []
    },
    {
      "cell_type": "code",
      "metadata": {
        "id": "imtIRABoZyv1",
        "colab_type": "code",
        "outputId": "ccc80839-5256-4e04-f9f0-4dcb3155c9dc",
        "colab": {
          "base_uri": "https://localhost:8080/",
          "height": 544
        }
      },
      "source": [
        "from tensorflow.python.client import device_lib\n",
        "print(device_lib.list_local_devices())"
      ],
      "execution_count": 3,
      "outputs": [
        {
          "output_type": "stream",
          "text": [
            "[name: \"/device:CPU:0\"\n",
            "device_type: \"CPU\"\n",
            "memory_limit: 268435456\n",
            "locality {\n",
            "}\n",
            "incarnation: 13681966231990707314\n",
            ", name: \"/device:XLA_CPU:0\"\n",
            "device_type: \"XLA_CPU\"\n",
            "memory_limit: 17179869184\n",
            "locality {\n",
            "}\n",
            "incarnation: 15169481714334938317\n",
            "physical_device_desc: \"device: XLA_CPU device\"\n",
            ", name: \"/device:XLA_GPU:0\"\n",
            "device_type: \"XLA_GPU\"\n",
            "memory_limit: 17179869184\n",
            "locality {\n",
            "}\n",
            "incarnation: 10482272550712966090\n",
            "physical_device_desc: \"device: XLA_GPU device\"\n",
            ", name: \"/device:GPU:0\"\n",
            "device_type: \"GPU\"\n",
            "memory_limit: 11330115994\n",
            "locality {\n",
            "  bus_id: 1\n",
            "  links {\n",
            "  }\n",
            "}\n",
            "incarnation: 13860852097862083298\n",
            "physical_device_desc: \"device: 0, name: Tesla K80, pci bus id: 0000:00:04.0, compute capability: 3.7\"\n",
            "]\n"
          ],
          "name": "stdout"
        }
      ]
    },
    {
      "cell_type": "code",
      "metadata": {
        "id": "ttc3P7ktIC02",
        "colab_type": "code",
        "outputId": "491413d2-9e0d-4883-ba29-f747ce41d91e",
        "colab": {
          "base_uri": "https://localhost:8080/",
          "height": 51
        }
      },
      "source": [
        "#  load cifar 10 dataset\n",
        "\n",
        "cifar10 = tf.keras.datasets.cifar10\n",
        "(x_train, y_train), (x_test, y_test) = cifar10.load_data()\n",
        "x_train, x_test = x_train/255.0, x_test/255.0\n",
        "\n",
        "print(\"Train Shape: {0}\".format(x_train.shape))\n",
        "print(\"Test Shape: {0}\".format(x_test.shape))"
      ],
      "execution_count": 25,
      "outputs": [
        {
          "output_type": "stream",
          "text": [
            "Train Shape: (50000, 32, 32, 3)\n",
            "Test Shape: (10000, 32, 32, 3)\n"
          ],
          "name": "stdout"
        }
      ]
    },
    {
      "cell_type": "code",
      "metadata": {
        "id": "hgvG9XmoL4hV",
        "colab_type": "code",
        "colab": {}
      },
      "source": [
        "# convert number to label\n",
        "\n",
        "num2label = {0: \"airplane\", 1: \"automobile\", 2: \"bird\", 3: \"cat\", 4: \"deer\", 5: \"dog\", 6: \"frog\", 7: \"horse\", 8: \"ship\", 9: \"truck\"}"
      ],
      "execution_count": 0,
      "outputs": []
    },
    {
      "cell_type": "code",
      "metadata": {
        "id": "Iv8NwHYZKqZy",
        "colab_type": "code",
        "outputId": "f1705e0b-9040-4356-cf4e-e92053627afb",
        "colab": {
          "base_uri": "https://localhost:8080/",
          "height": 210
        }
      },
      "source": [
        "# check dataset\n",
        "\n",
        "print(\"Answer Label: {0}\".format(num2label[y_train[4][0]]))\n",
        "print(x_train[4].shape)\n",
        "plt.figure(figsize=(2, 2))\n",
        "plt.imshow(x_train[4])"
      ],
      "execution_count": 27,
      "outputs": [
        {
          "output_type": "stream",
          "text": [
            "Answer Label: automobile\n",
            "(32, 32, 3)\n"
          ],
          "name": "stdout"
        },
        {
          "output_type": "execute_result",
          "data": {
            "text/plain": [
              "<matplotlib.image.AxesImage at 0x7f8f477eca58>"
            ]
          },
          "metadata": {
            "tags": []
          },
          "execution_count": 27
        },
        {
          "output_type": "display_data",
          "data": {
            "image/png": "[encoded data removed]",
            "text/plain": [
              "<Figure size 144x144 with 1 Axes>"
            ]
          },
          "metadata": {
            "tags": []
          }
        }
      ]
    },
    {
      "cell_type": "markdown",
      "metadata": {
        "id": "UvllgPSFijVy",
        "colab_type": "text"
      },
      "source": [
        "## MC Dropout"
      ]
    },
    {
      "cell_type": "code",
      "metadata": {
        "id": "kdt8rGbIlEGt",
        "colab_type": "code",
        "colab": {}
      },
      "source": [
        "class BayesianModel(Model):\n",
        "    def __init__(self):\n",
        "        super(BayesianModel, self).__init__()\n",
        "        self.conv1 = Conv2D(64, (3, 3), activation=\"relu\")\n",
        "        self.dropout1 = Dropout(0.5)\n",
        "        self.pool1 = MaxPool2D()\n",
        "        # second layer\n",
        "        self.conv2 = Conv2D(128, (3, 3), activation=\"relu\")\n",
        "        self.dropout2 = Dropout(0.5)\n",
        "        self.pool2 = MaxPool2D()\n",
        "        # third layer\n",
        "        self.conv3 = Conv2D(256, (3, 3), activation=\"relu\")\n",
        "        self.dropout3 = Dropout(0.5)\n",
        "        self.pool3 = GlobalAveragePooling2D()\n",
        "        self.flatten = Flatten()\n",
        "        # fourth layer\n",
        "        self.dense1 = Dense(1024, activation=\"relu\")\n",
        "        self.dropout4 = Dropout(0.5)\n",
        "        # output\n",
        "        self.dense2 = Dense(10, activation=\"softmax\") \n",
        "\n",
        "    def call(self, x):\n",
        "        x = self.conv1(x)\n",
        "        x = self.dropout1(x, training=True)\n",
        "        x = self.pool1(x)\n",
        "        x = self.conv2(x)\n",
        "        x = self.dropout2(x, training=True)\n",
        "        x = self.pool2(x)\n",
        "        x = self.conv3(x)\n",
        "        x = self.dropout3(x, training=True)\n",
        "        x = self.pool3(x)\n",
        "        x = self.flatten(x)\n",
        "        x = self.dense1(x)\n",
        "        x = self.dropout4(x, training=True)\n",
        "        y = self.dense2(x)\n",
        "\n",
        "        return y\n",
        "\n",
        "\n",
        "model = BayesianModel()"
      ],
      "execution_count": 0,
      "outputs": []
    },
    {
      "cell_type": "code",
      "metadata": {
        "id": "2MLFWXCqhDIw",
        "colab_type": "code",
        "colab": {}
      },
      "source": [
        "train_ds = tf.data.Dataset.from_tensor_slices((x_train, y_train)).shuffle(buffer_size=1024).batch(32)\n",
        "test_ds = tf.data.Dataset.from_tensor_slices((x_test, y_test)).batch(32)\n",
        "\n",
        "loss_object = tf.keras.losses.SparseCategoricalCrossentropy()\n",
        "optimizer = tf.keras.optimizers.Adam()\n",
        "\n",
        "train_loss = tf.keras.metrics.Mean(name = 'train_loss')\n",
        "train_accuracy = tf.keras.metrics.SparseCategoricalAccuracy(name = 'train_accuracy')\n",
        "\n",
        "test_loss = tf.keras.metrics.Mean(name = 'test_loss')\n",
        "test_accuracy = tf.keras.metrics.SparseCategoricalAccuracy(name = 'test_accuracy')"
      ],
      "execution_count": 0,
      "outputs": []
    },
    {
      "cell_type": "code",
      "metadata": {
        "id": "sbtdby7938cm",
        "colab_type": "code",
        "colab": {}
      },
      "source": [
        "@tf.function\n",
        "def train_step(images, labels):\n",
        "  with tf.GradientTape() as tape:\n",
        "    predictions = model(images)\n",
        "    loss = loss_object(labels, predictions)\n",
        "  gradients = tape.gradient(loss, model.trainable_variables)\n",
        "  optimizer.apply_gradients(zip(gradients, model.trainable_variables))\n",
        "\n",
        "  train_loss(loss)\n",
        "  train_accuracy(labels, predictions)"
      ],
      "execution_count": 0,
      "outputs": []
    },
    {
      "cell_type": "code",
      "metadata": {
        "id": "vByAs97-tj18",
        "colab_type": "code",
        "colab": {}
      },
      "source": [
        "@tf.function\n",
        "def test_step(images, labels):\n",
        "  predictions = model(images)\n",
        "  t_loss = loss_object(labels, predictions)\n",
        "\n",
        "  test_loss(t_loss)\n",
        "  test_accuracy(labels, predictions)"
      ],
      "execution_count": 0,
      "outputs": []
    },
    {
      "cell_type": "code",
      "metadata": {
        "id": "vZkAC6k_4DHo",
        "colab_type": "code",
        "outputId": "a1651925-2c8b-4ffd-d9e9-efed6e8ac865",
        "colab": {
          "base_uri": "https://localhost:8080/",
          "height": 309
        }
      },
      "source": [
        "epochs = 10\n",
        "\n",
        "for epoch in range(epochs):\n",
        "  for images, labels in train_ds:\n",
        "    train_step(images, labels)\n",
        "\n",
        "  for test_images, test_labels in test_ds:\n",
        "    test_step(test_images, test_labels)\n",
        "\n",
        "  template = 'Epoch {}, Loss: {}, Accuracy: {}, Test Loss: {}, Test Accuracy: {}'\n",
        "  print (template.format(epoch+1,\n",
        "                         train_loss.result(),\n",
        "                         train_accuracy.result()*100,\n",
        "                         test_loss.result(),\n",
        "                         test_accuracy.result()*100))\n",
        "  \n",
        "  # 次のエポック用にメトリクスをリセット\n",
        "  train_loss.reset_states()\n",
        "  train_accuracy.reset_states()\n",
        "  test_loss.reset_states()\n",
        "  test_accuracy.reset_states()"
      ],
      "execution_count": 15,
      "outputs": [
        {
          "output_type": "stream",
          "text": [
            "WARNING:tensorflow:Layer bayesian_model_1 is casting an input tensor from dtype float64 to the layer's dtype of float32, which is new behavior in TensorFlow 2.  The layer has dtype float32 because it's dtype defaults to floatx.\n",
            "\n",
            "If you intended to run this layer in float32, you can safely ignore this warning. If in doubt, this warning is likely only an issue if you are porting a TensorFlow 1.X model to TensorFlow 2.\n",
            "\n",
            "To change all layers to have dtype float64 by default, call `tf.keras.backend.set_floatx('float64')`. To change just this layer, pass dtype='float64' to the layer constructor. If you are the author of this layer, you can disable autocasting by passing autocast=False to the base Layer constructor.\n",
            "\n",
            "Epoch 1, Loss: 1.6396541595458984, Accuracy: 38.555999755859375, Test Loss: 1.3648489713668823, Test Accuracy: 50.13999938964844\n",
            "Epoch 2, Loss: 1.28488028049469, Accuracy: 53.772003173828125, Test Loss: 1.2197985649108887, Test Accuracy: 56.540000915527344\n",
            "Epoch 3, Loss: 1.1293367147445679, Accuracy: 60.012001037597656, Test Loss: 1.0849616527557373, Test Accuracy: 61.33000183105469\n",
            "Epoch 4, Loss: 1.0418016910552979, Accuracy: 63.336002349853516, Test Loss: 1.0218963623046875, Test Accuracy: 64.25\n",
            "Epoch 5, Loss: 0.9710912108421326, Accuracy: 65.56999969482422, Test Loss: 0.9741808772087097, Test Accuracy: 66.47999572753906\n",
            "Epoch 6, Loss: 0.930776059627533, Accuracy: 67.53800201416016, Test Loss: 0.9573614597320557, Test Accuracy: 66.97000122070312\n",
            "Epoch 7, Loss: 0.8972628712654114, Accuracy: 68.57200622558594, Test Loss: 0.9353617429733276, Test Accuracy: 67.29000091552734\n",
            "Epoch 8, Loss: 0.8683382272720337, Accuracy: 69.64799499511719, Test Loss: 0.9157116413116455, Test Accuracy: 68.4000015258789\n",
            "Epoch 9, Loss: 0.8492738008499146, Accuracy: 70.3219985961914, Test Loss: 0.8963915705680847, Test Accuracy: 69.0999984741211\n",
            "Epoch 10, Loss: 0.8318111896514893, Accuracy: 70.9219970703125, Test Loss: 0.8981079459190369, Test Accuracy: 69.37999725341797\n"
          ],
          "name": "stdout"
        }
      ]
    },
    {
      "cell_type": "markdown",
      "metadata": {
        "id": "K4R7v1DAbSkq",
        "colab_type": "text"
      },
      "source": [
        "## Predict by MC Dropout"
      ]
    },
    {
      "cell_type": "code",
      "metadata": {
        "id": "RrPr6eFp7iLh",
        "colab_type": "code",
        "colab": {}
      },
      "source": [
        "def mc_dropout_prediction(x_test, y_test, sample_num=50, class_num=10):\n",
        "  pred_dctlst = {\"answer\": [], \"entropy\": []}\n",
        "  for i in trange(len(x_test)):\n",
        "    image = x_test[i]\n",
        "    image = image[np.newaxis]\n",
        "    preds = np.zeros((sample_num, class_num), dtype=np.float32)\n",
        "    for j in range(sample_num):\n",
        "      predictions = model(image)\n",
        "      preds[j, :] = predictions\n",
        "    preds = preds.mean(axis=0)\n",
        "    entropy = np.sum(-preds*np.log(preds))\n",
        "    pred_dctlst[\"answer\"].append(y_test[i][0])\n",
        "    pred_dctlst[\"entropy\"].append(entropy)\n",
        "\n",
        "  return pred_dctlst"
      ],
      "execution_count": 0,
      "outputs": []
    },
    {
      "cell_type": "code",
      "metadata": {
        "id": "jP8tg3Xybl7L",
        "colab_type": "code",
        "colab": {
          "base_uri": "https://localhost:8080/",
          "height": 34
        },
        "outputId": "d48dd37b-6e62-42b9-a25f-e074afe12732"
      },
      "source": [
        "pred_dctlst = mc_dropout_prediction(x_test, y_test)\n",
        "pred_df = pd.DataFrame(pred_dctlst).sort_values(\"entropy\", ascending=True)\n",
        "pred_df.head()"
      ],
      "execution_count": 87,
      "outputs": [
        {
          "output_type": "stream",
          "text": [
            "100%|██████████| 1000/1000 [08:24<00:00,  1.90it/s]\n"
          ],
          "name": "stderr"
        }
      ]
    },
    {
      "cell_type": "markdown",
      "metadata": {
        "id": "XmL27gjd4OwW",
        "colab_type": "text"
      },
      "source": [
        "## Visualization high/low entropy image"
      ]
    },
    {
      "cell_type": "code",
      "metadata": {
        "id": "PrsCwGzYNC8P",
        "colab_type": "code",
        "outputId": "2fd2d629-e973-4945-d0e7-2998e99af002",
        "colab": {
          "base_uri": "https://localhost:8080/",
          "height": 343
        }
      },
      "source": [
        "target_class = 0\n",
        "ex_num = 10\n",
        "min_idx_lst = list(pred_df[pred_df[\"answer\"] == target_class].index)[:ex_num]\n",
        "max_idx_lst = list(pred_df[pred_df[\"answer\"] == target_class].index)[-ex_num:]\n",
        "\n",
        "plt.figure(figsize=(12, 6))\n",
        "\n",
        "for i, idx in enumerate(min_idx_lst):\n",
        "  image = x_test[idx]\n",
        "  plt.subplot(2, 5, i+1)\n",
        "  plt.imshow(image)"
      ],
      "execution_count": 89,
      "outputs": [
        {
          "output_type": "display_data",
          "data": {
            "image/png": "[encoded data removed]",
            "text/plain": [
              "<Figure size 864x432 with 10 Axes>"
            ]
          },
          "metadata": {
            "tags": []
          }
        }
      ]
    },
    {
      "cell_type": "code",
      "metadata": {
        "id": "m8rFYETaNOLn",
        "colab_type": "code",
        "colab": {}
      },
      "source": [
        ""
      ],
      "execution_count": 0,
      "outputs": []
    },
    {
      "cell_type": "code",
      "metadata": {
        "id": "iCmu0lcaNuGT",
        "colab_type": "code",
        "colab": {}
      },
      "source": [
        ""
      ],
      "execution_count": 0,
      "outputs": []
    },
    {
      "cell_type": "code",
      "metadata": {
        "id": "xCaHaGjt37tz",
        "colab_type": "code",
        "colab": {}
      },
      "source": [
        ""
      ],
      "execution_count": 0,
      "outputs": []
    }
  ]
}