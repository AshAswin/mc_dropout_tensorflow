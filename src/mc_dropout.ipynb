{
  "nbformat": 4,
  "nbformat_minor": 0,
  "metadata": {
    "colab": {
      "name": "bayesian_neuralnetwork.ipynb",
      "provenance": [],
      "collapsed_sections": [],
      "machine_shape": "hm"
    },
    "kernelspec": {
      "name": "python3",
      "display_name": "Python 3"
    },
    "accelerator": "GPU"
  },
  "cells": [
    {
      "cell_type": "code",
      "metadata": {
        "id": "G42eSuzvHty1",
        "colab_type": "code",
        "colab": {}
      },
      "source": [
        "from __future__ import absolute_import, division, print_function, unicode_literals\n",
        "\n",
        "!pip install -q tensorflow-gpu==2.0.0-rc1"
      ],
      "execution_count": 0,
      "outputs": []
    },
    {
      "cell_type": "code",
      "metadata": {
        "id": "PhVArKdXLQT8",
        "colab_type": "code",
        "colab": {}
      },
      "source": [
        "%matplotlib inline\n",
        "import matplotlib.pyplot as plt\n",
        "import numpy as np\n",
        "import pandas as pd\n",
        "import tensorflow as tf\n",
        "from tensorflow.keras.layers import Dense, Flatten, Conv2D, Dropout, MaxPool2D, GlobalAveragePooling2D\n",
        "from tensorflow.keras import Model\n",
        "from keras.callbacks import EarlyStopping \n",
        "from collections import defaultdict\n",
        "from tqdm import trange"
      ],
      "execution_count": 0,
      "outputs": []
    },
    {
      "cell_type": "code",
      "metadata": {
        "id": "imtIRABoZyv1",
        "colab_type": "code",
        "colab": {}
      },
      "source": [
        "from tensorflow.python.client import device_lib\n",
        "print(device_lib.list_local_devices())"
      ],
      "execution_count": 0,
      "outputs": []
    },
    {
      "cell_type": "code",
      "metadata": {
        "id": "ttc3P7ktIC02",
        "colab_type": "code",
        "colab": {}
      },
      "source": [
        "#  load cifar 10 dataset\n",
        "\n",
        "cifar10 = tf.keras.datasets.cifar10\n",
        "(x_train, y_train), (x_test, y_test) = cifar10.load_data()\n",
        "x_train, x_test = x_train/255.0, x_test/255.0\n",
        "\n",
        "print(\"Train Shape: {0}\".format(x_train.shape))\n",
        "print(\"Test Shape: {0}\".format(x_test.shape))"
      ],
      "execution_count": 0,
      "outputs": []
    },
    {
      "cell_type": "code",
      "metadata": {
        "id": "hgvG9XmoL4hV",
        "colab_type": "code",
        "colab": {}
      },
      "source": [
        "# convert number to label\n",
        "\n",
        "num2label = {0: \"airplane\", 1: \"automobile\", 2: \"bird\", 3: \"cat\", 4: \"deer\", 5: \"dog\", 6: \"frog\", 7: \"horse\", 8: \"ship\", 9: \"truck\"}"
      ],
      "execution_count": 0,
      "outputs": []
    },
    {
      "cell_type": "code",
      "metadata": {
        "id": "Iv8NwHYZKqZy",
        "colab_type": "code",
        "colab": {}
      },
      "source": [
        "# check dataset\n",
        "\n",
        "print(\"Answer Label: {0}\".format(num2label[y_train[4][0]]))\n",
        "print(x_train[4].shape)\n",
        "plt.figure(figsize=(2, 2))\n",
        "plt.imshow(x_train[4])"
      ],
      "execution_count": 0,
      "outputs": []
    },
    {
      "cell_type": "markdown",
      "metadata": {
        "id": "UvllgPSFijVy",
        "colab_type": "text"
      },
      "source": [
        "## MC Dropout"
      ]
    },
    {
      "cell_type": "code",
      "metadata": {
        "id": "kdt8rGbIlEGt",
        "colab_type": "code",
        "colab": {}
      },
      "source": [
        "class BayesianModel(Model):\n",
        "    def __init__(self):\n",
        "        super(BayesianModel, self).__init__()\n",
        "        self.conv1 = Conv2D(64, (3, 3), activation=\"relu\")\n",
        "        self.dropout1 = Dropout(0.5)\n",
        "        self.pool1 = MaxPool2D()\n",
        "        # second layer\n",
        "        self.conv2 = Conv2D(128, (3, 3), activation=\"relu\")\n",
        "        self.dropout2 = Dropout(0.5)\n",
        "        self.pool2 = MaxPool2D()\n",
        "        # third layer\n",
        "        self.conv3 = Conv2D(256, (3, 3), activation=\"relu\")\n",
        "        self.dropout3 = Dropout(0.5)\n",
        "        self.pool3 = GlobalAveragePooling2D()\n",
        "        self.flatten = Flatten()\n",
        "        # fourth layer\n",
        "        self.dense1 = Dense(1024, activation=\"relu\")\n",
        "        self.dropout4 = Dropout(0.5)\n",
        "        # output\n",
        "        self.dense2 = Dense(10, activation=\"softmax\") \n",
        "\n",
        "    def call(self, x):\n",
        "        x = self.conv1(x)\n",
        "        x = self.dropout1(x, training=True)\n",
        "        x = self.pool1(x)\n",
        "        x = self.conv2(x)\n",
        "        x = self.dropout2(x, training=True)\n",
        "        x = self.pool2(x)\n",
        "        x = self.conv3(x)\n",
        "        x = self.dropout3(x, training=True)\n",
        "        x = self.pool3(x)\n",
        "        x = self.flatten(x)\n",
        "        x = self.dense1(x)\n",
        "        x = self.dropout4(x, training=True)\n",
        "        y = self.dense2(x)\n",
        "\n",
        "        return y\n",
        "\n",
        "\n",
        "model = BayesianModel()"
      ],
      "execution_count": 0,
      "outputs": []
    },
    {
      "cell_type": "code",
      "metadata": {
        "id": "2MLFWXCqhDIw",
        "colab_type": "code",
        "colab": {}
      },
      "source": [
        "train_ds = tf.data.Dataset.from_tensor_slices((x_train, y_train)).shuffle(buffer_size=1024).batch(32)\n",
        "test_ds = tf.data.Dataset.from_tensor_slices((x_test, y_test)).batch(32)\n",
        "\n",
        "loss_object = tf.keras.losses.SparseCategoricalCrossentropy()\n",
        "optimizer = tf.keras.optimizers.Adam()\n",
        "\n",
        "train_loss = tf.keras.metrics.Mean(name = 'train_loss')\n",
        "train_accuracy = tf.keras.metrics.SparseCategoricalAccuracy(name = 'train_accuracy')\n",
        "\n",
        "test_loss = tf.keras.metrics.Mean(name = 'test_loss')\n",
        "test_accuracy = tf.keras.metrics.SparseCategoricalAccuracy(name = 'test_accuracy')"
      ],
      "execution_count": 0,
      "outputs": []
    },
    {
      "cell_type": "code",
      "metadata": {
        "id": "sbtdby7938cm",
        "colab_type": "code",
        "colab": {}
      },
      "source": [
        "@tf.function\n",
        "def train_step(images, labels):\n",
        "  with tf.GradientTape() as tape:\n",
        "    predictions = model(images)\n",
        "    loss = loss_object(labels, predictions)\n",
        "  gradients = tape.gradient(loss, model.trainable_variables)\n",
        "  optimizer.apply_gradients(zip(gradients, model.trainable_variables))\n",
        "\n",
        "  train_loss(loss)\n",
        "  train_accuracy(labels, predictions)"
      ],
      "execution_count": 0,
      "outputs": []
    },
    {
      "cell_type": "code",
      "metadata": {
        "id": "vByAs97-tj18",
        "colab_type": "code",
        "colab": {}
      },
      "source": [
        "@tf.function\n",
        "def test_step(images, labels):\n",
        "  predictions = model(images)\n",
        "  t_loss = loss_object(labels, predictions)\n",
        "\n",
        "  test_loss(t_loss)\n",
        "  test_accuracy(labels, predictions)"
      ],
      "execution_count": 0,
      "outputs": []
    },
    {
      "cell_type": "code",
      "metadata": {
        "id": "vZkAC6k_4DHo",
        "colab_type": "code",
        "colab": {}
      },
      "source": [
        "epochs = 10\n",
        "\n",
        "for epoch in range(epochs):\n",
        "  for images, labels in train_ds:\n",
        "    train_step(images, labels)\n",
        "\n",
        "  for test_images, test_labels in test_ds:\n",
        "    test_step(test_images, test_labels)\n",
        "\n",
        "  template = 'Epoch {}, Loss: {}, Accuracy: {}, Test Loss: {}, Test Accuracy: {}'\n",
        "  print (template.format(epoch+1,\n",
        "                         train_loss.result(),\n",
        "                         train_accuracy.result()*100,\n",
        "                         test_loss.result(),\n",
        "                         test_accuracy.result()*100))\n",
        "  \n",
        "  # each metrics reset for the next epoch\n",
        "  train_loss.reset_states()\n",
        "  train_accuracy.reset_states()\n",
        "  test_loss.reset_states()\n",
        "  test_accuracy.reset_states()"
      ],
      "execution_count": 0,
      "outputs": []
    },
    {
      "cell_type": "markdown",
      "metadata": {
        "id": "K4R7v1DAbSkq",
        "colab_type": "text"
      },
      "source": [
        "## Predict by MC Dropout"
      ]
    },
    {
      "cell_type": "code",
      "metadata": {
        "id": "RrPr6eFp7iLh",
        "colab_type": "code",
        "colab": {}
      },
      "source": [
        "def mc_dropout_prediction(x_test, y_test, sample_num=100, class_num=10):\n",
        "  pred_dctlst = {\"answer\": [], \"entropy\": []}\n",
        "  for i in trange(len(x_test)):\n",
        "    image = x_test[i]\n",
        "    image = image[np.newaxis]\n",
        "    preds = np.zeros((sample_num, class_num), dtype=np.float32)\n",
        "    for j in range(sample_num):\n",
        "      predictions = model(image)\n",
        "      preds[j, :] = predictions\n",
        "    preds = preds.mean(axis=0)\n",
        "    entropy = np.sum(-preds*np.log(preds))\n",
        "    pred_dctlst[\"answer\"].append(y_test[i][0])\n",
        "    pred_dctlst[\"entropy\"].append(entropy)\n",
        "\n",
        "  return pred_dctlst"
      ],
      "execution_count": 0,
      "outputs": []
    },
    {
      "cell_type": "code",
      "metadata": {
        "id": "jP8tg3Xybl7L",
        "colab_type": "code",
        "colab": {}
      },
      "source": [
        "sample_num = 100\n",
        "class_num = 10\n",
        "\n",
        "pred_df = pd.DataFrame(pred_dctlst).sort_values(\"entropy\", ascending=True)\n",
        "pred_df.head()"
      ],
      "execution_count": 0,
      "outputs": []
    },
    {
      "cell_type": "markdown",
      "metadata": {
        "id": "XmL27gjd4OwW",
        "colab_type": "text"
      },
      "source": [
        "## Visualization high/low entropy image"
      ]
    },
    {
      "cell_type": "code",
      "metadata": {
        "id": "PrsCwGzYNC8P",
        "colab_type": "code",
        "colab": {}
      },
      "source": [
        "target_class = 0\n",
        "example_num = 10\n",
        "\n",
        "max_idx_lst = list(pred_df[pred_df[\"answer\"] == target_class].index)[-example_num:]\n",
        "\n",
        "plt.figure(figsize=(12, 6))\n",
        "plt.suptitle(\"High entropy image ({0}) top 10\".format(num2label[target_class]), color=\"white\", fontsize=16)\n",
        "\n",
        "for i, idx in enumerate(max_idx_lst):\n",
        "  image = x_test[idx]\n",
        "  plt.subplot(2, 5, i+1)\n",
        "  plt.imshow(image)"
      ],
      "execution_count": 0,
      "outputs": []
    },
    {
      "cell_type": "code",
      "metadata": {
        "id": "m8rFYETaNOLn",
        "colab_type": "code",
        "colab": {}
      },
      "source": [
        "min_idx_lst = list(pred_df[pred_df[\"answer\"] == target_class].index)[:example_num]\n",
        "\n",
        "plt.figure(figsize=(12, 6))\n",
        "plt.suptitle(\"Low entropy image ({0}) top 10\".format(num2label[target_class]), color=\"white\", fontsize=16)\n",
        "\n",
        "for i, idx in enumerate(min_idx_lst):\n",
        "  image = x_test[idx]\n",
        "  plt.subplot(2, 5, i+1)\n",
        "  plt.imshow(image)"
      ],
      "execution_count": 0,
      "outputs": []
    },
    {
      "cell_type": "code",
      "metadata": {
        "id": "iCmu0lcaNuGT",
        "colab_type": "code",
        "colab": {}
      },
      "source": [
        ""
      ],
      "execution_count": 0,
      "outputs": []
    },
    {
      "cell_type": "code",
      "metadata": {
        "id": "xCaHaGjt37tz",
        "colab_type": "code",
        "colab": {}
      },
      "source": [
        ""
      ],
      "execution_count": 0,
      "outputs": []
    }
  ]
}